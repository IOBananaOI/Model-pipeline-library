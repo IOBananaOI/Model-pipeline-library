{
 "cells": [
  {
   "cell_type": "code",
   "execution_count": 1,
   "metadata": {},
   "outputs": [],
   "source": [
    "import numpy as np\n",
    "import pandas as pd\n",
    "\n",
    "import matplotlib.pyplot as plt\n",
    "import seaborn as sns\n",
    "\n",
    "from dataset import Dataset"
   ]
  },
  {
   "cell_type": "code",
   "execution_count": 2,
   "metadata": {},
   "outputs": [],
   "source": [
    "test = pd.read_csv('data/test.csv')\n",
    "train = pd.read_csv('data/train.csv')\n",
    "\n",
    "ds = Dataset(train)"
   ]
  },
  {
   "cell_type": "code",
   "execution_count": 3,
   "metadata": {},
   "outputs": [
    {
     "name": "stdout",
     "output_type": "stream",
     "text": [
      "         Columns  Isna count  Percentage of NaN\n",
      "72        PoolQC        1453           0.995205\n",
      "74   MiscFeature        1406           0.963014\n",
      "6          Alley        1369           0.937671\n",
      "73         Fence        1179           0.807534\n",
      "25    MasVnrType         872           0.597260\n",
      "57   FireplaceQu         690           0.472603\n",
      "3    LotFrontage         259           0.177397\n",
      "58    GarageType          81           0.055479\n",
      "59   GarageYrBlt          81           0.055479\n",
      "60  GarageFinish          81           0.055479\n",
      "63    GarageQual          81           0.055479\n",
      "64    GarageCond          81           0.055479\n",
      "35  BsmtFinType2          38           0.026027\n",
      "32  BsmtExposure          38           0.026027\n",
      "33  BsmtFinType1          37           0.025342\n",
      "31      BsmtCond          37           0.025342\n",
      "30      BsmtQual          37           0.025342\n",
      "26    MasVnrArea           8           0.005479\n",
      "42    Electrical           1           0.000685\n",
      "\n",
      "Recommended to delete following columns: ['PoolQC' 'MiscFeature' 'Alley' 'Fence' 'MasVnrType' 'FireplaceQu']\n"
     ]
    }
   ],
   "source": [
    "ds.isna_statistics()"
   ]
  }
 ],
 "metadata": {
  "kernelspec": {
   "display_name": "Python 3",
   "language": "python",
   "name": "python3"
  },
  "language_info": {
   "codemirror_mode": {
    "name": "ipython",
    "version": 3
   },
   "file_extension": ".py",
   "mimetype": "text/x-python",
   "name": "python",
   "nbconvert_exporter": "python",
   "pygments_lexer": "ipython3",
   "version": "3.11.6"
  }
 },
 "nbformat": 4,
 "nbformat_minor": 2
}
